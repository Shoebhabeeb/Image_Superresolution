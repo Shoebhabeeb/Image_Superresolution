{
 "cells": [
  {
   "cell_type": "code",
   "execution_count": null,
   "metadata": {
    "collapsed": true
   },
   "outputs": [],
   "source": [
    "import pandas as pd\n",
    "from tqdm import tqdm\n",
    "tqdm.pandas()\n",
    "import datetime\n",
    "from sunpy.io import jp2\n",
    "import numpy as np\n",
    "import os\n",
    "import sys\n",
    "from PIL import Image"
   ]
  },
  {
   "cell_type": "code",
   "execution_count": null,
   "outputs": [],
   "source": [
    "pathofAIAFile = '/data/HMI_Fits/files-all.txt'\n",
    "#Importing the file\n",
    "df = pd.read_csv(pathofAIAFile, sep=\" \", header=None)\n",
    "df.columns = ['path']\n",
    "df"
   ],
   "metadata": {
    "collapsed": false,
    "pycharm": {
     "name": "#%%\n"
    }
   }
  },
  {
   "cell_type": "code",
   "execution_count": null,
   "outputs": [],
   "source": [
    "#Removing the links which don't have .fits extension\n",
    "df['isFile'] = df['path'].progress_apply(lambda x: True if '.fits' in x else False)\n",
    "img = df[df.isFile == True]"
   ],
   "metadata": {
    "collapsed": false,
    "pycharm": {
     "name": "#%%\n"
    }
   }
  },
  {
   "cell_type": "code",
   "execution_count": null,
   "outputs": [],
   "source": [
    "#Adding /data/AIA to complete the path\n",
    "img['path'] = img['path'].progress_apply(lambda x: x.replace('./', '/data/HMI_Fits/'))\n",
    "img"
   ],
   "metadata": {
    "collapsed": false,
    "pycharm": {
     "name": "#%%\n"
    }
   }
  },
  {
   "cell_type": "code",
   "execution_count": null,
   "outputs": [],
   "source": [
    "#b = img['year'].unique()\n",
    "img['year']= img['path'].progress_apply(lambda x: x.split(\"HMI_Fits/\")[1][0:4])\n",
    "img['notYear'] = img['year'].progress_apply(lambda x: True if x in 'BadFits' else False)\n",
    "img['notYear'] = img['year'].progress_apply(lambda x: True if x in \"synt\" else False)\n",
    "searchfor = ['BadF', 'synt']\n",
    "newdf = img[~img.year.str.contains('|'.join(searchfor))]\n",
    "newdf['year'].unique()\n",
    "final = newdf[['path']]\n",
    "final = final.reset_index(drop=True)\n",
    "#final.to_csv('FITS_image_data.csv', sep='\\t', index=False)\n",
    "final"
   ],
   "metadata": {
    "collapsed": false,
    "pycharm": {
     "name": "#%%\n"
    }
   }
  },
  {
   "cell_type": "code",
   "execution_count": null,
   "outputs": [],
   "source": [
    "from astropy.io import fits\n",
    "import torch\n",
    "import numpy as np\n",
    "from collections import Counter\n",
    "import pandas\n",
    "from astropy.io import fits\n",
    "import matplotlib.pyplot as plt\n",
    "filepath = final.iloc[0]['path']\n",
    "img = fits.open(filepath)\n",
    "data_a = img[0].data\n",
    "#where_are_NaNs = np.isnan(data_a)\n",
    "#data_a[where_are_NaNs] = 0\n",
    "data_a = np.clip(data_a,-1500,1500)\n",
    "print(data_a.shape[1])\n",
    "plt.imshow(data_a, cmap='gray')\n",
    "plt.colorbar()\n",
    "def load_img(filepath):\n",
    "    image_data = fits.getdata(filepath)\n",
    "    data = image_data.astype(np.float32)\n",
    "    a = torch.from_numpy(data)\n",
    "    where_are_NaNs = np.isnan(a)\n",
    "    a[where_are_NaNs] = 0\n",
    "    a = torch.clamp(a,-1500,1500)\n",
    "    return a\n",
    "a = load_img(filepath)\n",
    "data_a.max()"
   ],
   "metadata": {
    "collapsed": false,
    "pycharm": {
     "name": "#%%\n"
    }
   }
  },
  {
   "cell_type": "code",
   "execution_count": null,
   "outputs": [],
   "source": [
    "counts,values = pd.Series(lis).value_counts().values, pd.Series(lis).value_counts().index\n",
    "df_results = pd.DataFrame(list(zip(values,counts)),columns=[\"value\",\"count\"])\n",
    "df_results.set_index('value').plot(figsize=(10,5), grid=True)"
   ],
   "metadata": {
    "collapsed": false,
    "pycharm": {
     "name": "#%%\n"
    }
   }
  },
  {
   "cell_type": "code",
   "execution_count": null,
   "outputs": [],
   "source": [
    "print(len(lis))\n",
    "data = pd.DataFrame(lis)\n",
    "print(data)\n",
    "stat = data.describe()\n",
    "stat\n",
    "jj = set(lis)\n",
    "jj"
   ],
   "metadata": {
    "collapsed": false,
    "pycharm": {
     "name": "#%%\n"
    }
   }
  },
  {
   "cell_type": "code",
   "execution_count": null,
   "outputs": [],
   "source": [
    "df_results = df_results.drop(df_results.index[0])\n",
    "print(df_results)\n",
    "#df_results.set_index('value').plot(figsize=(10,5), grid=True)"
   ],
   "metadata": {
    "collapsed": false,
    "pycharm": {
     "name": "#%%\n"
    }
   }
  },
  {
   "cell_type": "code",
   "execution_count": null,
   "outputs": [],
   "source": [
    "#jj = set(lis)\n",
    "fresh = []\n",
    "for i in range(1,76241):\n",
    "    filepath = final.iloc[i]['path']\n",
    "    a = load_img(filepath)\n",
    "    fresh = [element.item() for element in a.flatten()]\n",
    "    lis = lis+fresh"
   ],
   "metadata": {
    "collapsed": false,
    "pycharm": {
     "name": "#%%\n"
    }
   }
  }
 ],
 "metadata": {
  "kernelspec": {
   "display_name": "Python 3",
   "language": "python",
   "name": "python3"
  },
  "language_info": {
   "codemirror_mode": {
    "name": "ipython",
    "version": 2
   },
   "file_extension": ".py",
   "mimetype": "text/x-python",
   "name": "python",
   "nbconvert_exporter": "python",
   "pygments_lexer": "ipython2",
   "version": "2.7.6"
  }
 },
 "nbformat": 4,
 "nbformat_minor": 0
}